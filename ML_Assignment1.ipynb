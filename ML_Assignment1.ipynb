{
  "cells": [
    {
      "cell_type": "markdown",
      "metadata": {
        "id": "view-in-github",
        "colab_type": "text"
      },
      "source": [
        "<a href=\"https://colab.research.google.com/github/ShreyB2091/Machine-Learning-Project/blob/main/ML_Assignment1.ipynb\" target=\"_parent\"><img src=\"https://colab.research.google.com/assets/colab-badge.svg\" alt=\"Open In Colab\"/></a>"
      ]
    },
    {
      "cell_type": "code",
      "execution_count": null,
      "id": "42f5e68e",
      "metadata": {
        "id": "42f5e68e"
      },
      "outputs": [],
      "source": [
        "import numpy as np"
      ]
    },
    {
      "cell_type": "code",
      "source": [
        "from scipy import stats"
      ],
      "metadata": {
        "id": "IyefTXXv-hlv"
      },
      "id": "IyefTXXv-hlv",
      "execution_count": null,
      "outputs": []
    },
    {
      "cell_type": "markdown",
      "id": "2b209b50",
      "metadata": {
        "id": "2b209b50"
      },
      "source": [
        "Q1 Let x = np.arange(4, dtype=np.int64). Create an array of ones with the same shape and type as X."
      ]
    },
    {
      "cell_type": "code",
      "execution_count": null,
      "id": "729dc9cd",
      "metadata": {
        "id": "729dc9cd"
      },
      "outputs": [],
      "source": [
        "x = np.arange(4, dtype=np.int64)\n",
        "a = np.ones_like(x, dtype=np.int64)\n",
        "print(a)"
      ]
    },
    {
      "cell_type": "markdown",
      "id": "1b9ea803",
      "metadata": {
        "id": "1b9ea803"
      },
      "source": [
        "Q2 Let X = np.array([[1, 2], [3, 4]]). Convert it into a matrix."
      ]
    },
    {
      "cell_type": "code",
      "execution_count": null,
      "id": "23e39b64",
      "metadata": {
        "id": "23e39b64"
      },
      "outputs": [],
      "source": [
        "X = np.array([[1, 2], [3, 4]])\n",
        "X = np.asmatrix(X)\n",
        "print(X)\n",
        "print(type(X))"
      ]
    },
    {
      "cell_type": "markdown",
      "id": "4c1fc004",
      "metadata": {
        "id": "4c1fc004"
      },
      "source": [
        "Q3 Create a 1-D array of 50 evenly spaced elements between 3. and 10., inclusive."
      ]
    },
    {
      "cell_type": "code",
      "execution_count": null,
      "id": "9f0a47db",
      "metadata": {
        "id": "9f0a47db"
      },
      "outputs": [],
      "source": [
        "k = np.arange(3.0, 10.0 + 1 / 7, 1 / 7)\n",
        "print(k)"
      ]
    },
    {
      "cell_type": "markdown",
      "id": "0289d659",
      "metadata": {
        "id": "0289d659"
      },
      "source": [
        "Q4 Let x be array [[1, 2, 3], [4, 5, 6]]. Convert it to [1 4 2 5 3 6]."
      ]
    },
    {
      "cell_type": "code",
      "execution_count": null,
      "id": "f8435bca",
      "metadata": {
        "id": "f8435bca"
      },
      "outputs": [],
      "source": [
        "x = np.array([[1, 2 ,3], [4, 5, 6]])\n",
        "x = x.reshape(1, 6)\n",
        "print(x)"
      ]
    },
    {
      "cell_type": "markdown",
      "id": "71988acd",
      "metadata": {
        "id": "71988acd"
      },
      "source": [
        "Q5 Let x be an array [1, 2, 3, ..., 9]. Split x into 3 arrays, each of which has 4, 2, and 3 elements in the original order."
      ]
    },
    {
      "cell_type": "code",
      "execution_count": null,
      "id": "9425a232",
      "metadata": {
        "id": "9425a232"
      },
      "outputs": [],
      "source": [
        "x = np.array([1, 2, 3, 4, 5, 6, 7, 8, 9])\n",
        "sec_list = [4, 2, 3]\n",
        "from itertools import islice\n",
        "it = iter(x)\n",
        "sliced = [list(islice(it, 0, i)) for i in sec_list]\n",
        "print(sliced)"
      ]
    },
    {
      "cell_type": "markdown",
      "id": "6aecae8c",
      "metadata": {
        "id": "6aecae8c"
      },
      "source": [
        " Q6 Compute the inverse and primary diagnol sum of x=[[1,2],[3,4]]"
      ]
    },
    {
      "cell_type": "code",
      "execution_count": null,
      "id": "3d79a142",
      "metadata": {
        "id": "3d79a142"
      },
      "outputs": [],
      "source": [
        "x = np.array([[1, 2], [3, 4]])\n",
        "inv_x = np.linalg.inv(x)     # Inverse of x\n",
        "print(inv_x)\n",
        "tr = np.trace(x)     # Primary diagonal sum of x\n",
        "print(tr)"
      ]
    },
    {
      "cell_type": "markdown",
      "id": "9f088694",
      "metadata": {
        "id": "9f088694"
      },
      "source": [
        "Q7 Sort x along the second axis. x = [[1,4],[3,1]]"
      ]
    },
    {
      "cell_type": "code",
      "execution_count": null,
      "id": "40099735",
      "metadata": {
        "id": "40099735"
      },
      "outputs": [],
      "source": [
        "x = np.array([[1, 4], [3, 1]])\n",
        "x.sort(axis = 1)\n",
        "print(x)"
      ]
    },
    {
      "cell_type": "markdown",
      "id": "51cc1a71",
      "metadata": {
        "id": "51cc1a71"
      },
      "source": [
        "Q8 Get the indices that would sort x(as above) along the second axis."
      ]
    },
    {
      "cell_type": "code",
      "execution_count": null,
      "id": "f314f2b6",
      "metadata": {
        "id": "f314f2b6"
      },
      "outputs": [],
      "source": [
        "x = np.array([[1, 4], [3, 1]])\n",
        "k = np.argsort(x, axis = 1)\n",
        "print(k)"
      ]
    },
    {
      "cell_type": "markdown",
      "id": "1cf5455c",
      "metadata": {
        "id": "1cf5455c"
      },
      "source": [
        "Initiate x as a 2x5 array with random values from 0 to 10(not inclusive).Get the maximum and minimum values and their indices of x along the second axis."
      ]
    },
    {
      "cell_type": "code",
      "execution_count": null,
      "id": "4c9518c5",
      "metadata": {
        "id": "4c9518c5"
      },
      "outputs": [],
      "source": [
        "x = np.random.randint(10, size = (2, 5))\n",
        "print(x)\n",
        "maxarg = np.argmax(x, axis = 1)\n",
        "minarg = np.argmin(x, axis = 1)\n",
        "print(x[1][maxarg[1]], maxarg) \n",
        "print(x[1][minarg[1]], minarg)"
      ]
    },
    {
      "cell_type": "markdown",
      "id": "d4c46002",
      "metadata": {
        "id": "d4c46002"
      },
      "source": [
        "Run the following load command to get the 2-Dim iris dataset. Do the following operations on it."
      ]
    },
    {
      "cell_type": "code",
      "execution_count": null,
      "id": "6d70b524",
      "metadata": {
        "id": "6d70b524"
      },
      "outputs": [],
      "source": [
        "url = 'https://archive.ics.uci.edu/ml/machine-learning-databases/iris/iris.data'\n",
        "iris_2d = np.genfromtxt(url, delimiter=',', dtype='float', usecols=[0,1,2,3])\n",
        "print(iris_2d)"
      ]
    },
    {
      "cell_type": "markdown",
      "id": "09bd05b0",
      "metadata": {
        "id": "09bd05b0"
      },
      "source": [
        "Drop rows that contain a missing value. "
      ]
    },
    {
      "cell_type": "code",
      "execution_count": null,
      "id": "ffd754b3",
      "metadata": {
        "id": "ffd754b3"
      },
      "outputs": [],
      "source": [
        "for i in range (150):\n",
        "  flag = 1\n",
        "  for j in range (4):\n",
        "    if iris_2d[i][j] is np.nan:\n",
        "      flag = 0\n",
        "      break\n",
        "  if flag:\n",
        "    print(iris_2d[i])"
      ]
    },
    {
      "cell_type": "markdown",
      "id": "8cbd9fb3",
      "metadata": {
        "id": "8cbd9fb3"
      },
      "source": [
        "Find the correlation between first two columns."
      ]
    },
    {
      "cell_type": "code",
      "execution_count": null,
      "id": "e3ef5a77",
      "metadata": {
        "id": "e3ef5a77"
      },
      "outputs": [],
      "source": [
        "k1, k2 = iris_2d[:, 0], iris_2d[:, 1]\n",
        "k = np.corrcoef(k1, k2)\n",
        "print(k)"
      ]
    },
    {
      "cell_type": "markdown",
      "id": "73965a4a",
      "metadata": {
        "id": "73965a4a"
      },
      "source": [
        "Find the mean,median and standard deviation of column 3."
      ]
    },
    {
      "cell_type": "code",
      "execution_count": null,
      "id": "ab824597",
      "metadata": {
        "id": "ab824597"
      },
      "outputs": [],
      "source": [
        "col = iris_2d[:, 2]\n",
        "print(np.mean(col))\n",
        "print(stats.mode(col))\n",
        "col.sort()\n",
        "print(np.median(col))"
      ]
    },
    {
      "cell_type": "markdown",
      "id": "14e0308e",
      "metadata": {
        "id": "14e0308e"
      },
      "source": [
        "<!-- # *This* is formatted as code -->\n",
        "\n",
        "\n",
        "Create a new column for volume in iris_2d, where volume is (pi x petallength x sepal_length^2)/3"
      ]
    },
    {
      "cell_type": "code",
      "source": [
        "li = []\n",
        "for i in range (150):\n",
        "  li.append((np.pi * iris_2d[i][0] * iris_2d[i][0] * iris_2d[i][2]) / 3)\n",
        "vol = np.array([li], dtype='float')\n",
        "vol = vol.reshape(150, 1)\n",
        "np.append(iris_2d, vol, axis = 1)"
      ],
      "metadata": {
        "id": "Pmzdngu2Ejna"
      },
      "id": "Pmzdngu2Ejna",
      "execution_count": null,
      "outputs": []
    },
    {
      "cell_type": "markdown",
      "id": "b7c1758f",
      "metadata": {
        "id": "b7c1758f"
      },
      "source": [
        "Run the following load command and solve the following questions"
      ]
    },
    {
      "cell_type": "code",
      "execution_count": null,
      "id": "b3fae8a7",
      "metadata": {
        "id": "b3fae8a7"
      },
      "outputs": [],
      "source": [
        "url = 'https://archive.ics.uci.edu/ml/machine-learning-databases/iris/iris.data'\n",
        "iris = np.genfromtxt(url, delimiter=',', dtype='object')\n",
        "names = ('sepallength', 'sepalwidth', 'petallength', 'petalwidth', 'species')\n",
        "print(iris)"
      ]
    },
    {
      "cell_type": "markdown",
      "id": "4ee21e50",
      "metadata": {
        "id": "4ee21e50"
      },
      "source": [
        "Find the count of unique species."
      ]
    },
    {
      "cell_type": "code",
      "execution_count": null,
      "id": "730ad758",
      "metadata": {
        "id": "730ad758"
      },
      "outputs": [],
      "source": [
        "m1 = np.genfromtxt(url, delimiter=',', dtype='float', usecols=[0,1,2,3], max_rows=50)\n",
        "m2 = np.genfromtxt(url, delimiter=',', dtype='float', usecols=[0,1,2,3], skip_header=50, max_rows=50)\n",
        "m3 = np.genfromtxt(url, delimiter=',', dtype='float', usecols=[0,1,2,3], skip_header=100, max_rows=50)\n",
        "row1 = np.unique(m1, axis = 0)\n",
        "row2 = np.unique(m2, axis = 0)\n",
        "row3 = np.unique(m3, axis = 0)\n",
        "un_rows = len(row1) + len(row2) + len(row3)\n",
        "print(un_rows)"
      ]
    },
    {
      "cell_type": "markdown",
      "id": "6d054b10",
      "metadata": {
        "id": "6d054b10"
      },
      "source": [
        "Bin the petal length (3rd) column of iris_2d to form a text array, such that if petal length is:\n",
        "Less than 3 –> ‘small’\n",
        "3-5 –> ‘medium’\n",
        "‘>=5 –> ‘large’"
      ]
    },
    {
      "cell_type": "code",
      "source": [
        "import pandas as pd"
      ],
      "metadata": {
        "id": "lGe7TIsSKSHA"
      },
      "id": "lGe7TIsSKSHA",
      "execution_count": null,
      "outputs": []
    },
    {
      "cell_type": "code",
      "execution_count": null,
      "id": "5be1b28a",
      "metadata": {
        "scrolled": false,
        "id": "5be1b28a"
      },
      "outputs": [],
      "source": [
        "bins = [0.0, 2.9, 5.0, 100.0]\n",
        "bin_label = ['small', 'medium', 'large']\n",
        "text = pd.cut(iris_2d[:, 2], bins, labels = bin_label)\n",
        "text_array = np.array(text)\n",
        "print(text_array)"
      ]
    },
    {
      "cell_type": "markdown",
      "id": "87b2ddd8",
      "metadata": {
        "id": "87b2ddd8"
      },
      "source": [
        "Find the most frequent value of petal length (3rd column) in iris dataset"
      ]
    },
    {
      "cell_type": "code",
      "execution_count": null,
      "id": "bb79857d",
      "metadata": {
        "id": "bb79857d"
      },
      "outputs": [],
      "source": [
        "col = iris[:, 2]\n",
        "print(stats.mode(col))"
      ]
    }
  ],
  "metadata": {
    "kernelspec": {
      "display_name": "Python 3 (ipykernel)",
      "language": "python",
      "name": "python3"
    },
    "language_info": {
      "codemirror_mode": {
        "name": "ipython",
        "version": 3
      },
      "file_extension": ".py",
      "mimetype": "text/x-python",
      "name": "python",
      "nbconvert_exporter": "python",
      "pygments_lexer": "ipython3",
      "version": "3.8.10"
    },
    "colab": {
      "name": "Copy of ML_Assignment_1_NumPy.ipynb",
      "provenance": [],
      "collapsed_sections": [],
      "include_colab_link": true
    }
  },
  "nbformat": 4,
  "nbformat_minor": 5
}